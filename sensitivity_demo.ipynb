{
 "cells": [
  {
   "cell_type": "code",
   "execution_count": 1,
   "id": "f6ba12e7-0e3c-4fbb-b45b-43ea7a5ed6db",
   "metadata": {
    "tags": []
   },
   "outputs": [
    {
     "name": "stdout",
     "output_type": "stream",
     "text": [
      "Running on CPU\n",
      "\n"
     ]
    }
   ],
   "source": [
    "from twoBodyPINN import *\n",
    "from SALib.sample import saltelli\n",
    "from SALib.analyze import sobol\n",
    "from multiprocessing import Pool\n",
    "import pandas as pd\n",
    "import numpy as np\n",
    "import seaborn as sns\n",
    "#from os import sched_getaffinity\n",
    "#from time import time\n",
    "\n",
    "#ncores = len(sched_getaffinity(0))"
   ]
  },
  {
   "cell_type": "code",
   "execution_count": 2,
   "id": "7f3110fc-1b61-4a8d-bc59-cb415adf847a",
   "metadata": {},
   "outputs": [],
   "source": [
    "def model(timesteps,depth,width,lr,w1,w2,w3,w4):\n",
    "        args = {\n",
    "                \"timesteps\":int(timesteps),\n",
    "                \"depth\":int(depth),\n",
    "                \"width\":int(width),\n",
    "                \"lr\":lr,\n",
    "                \"weights\":[w1,w2,w3,w4],\n",
    "                \"Tmax\":4*np.pi,\n",
    "                \"initial\":[1,0,0,1.1],\n",
    "                \"epochs\":200,\n",
    "                \"seed\":2475\n",
    "               }\n",
    "        return trainNetwork(**args)[1][-1]\n",
    "def model_eval(x):\n",
    "    return model(*x)"
   ]
  },
  {
   "cell_type": "code",
   "execution_count": null,
   "id": "9cffb6b4-341b-40b4-8c8a-ca0447039a46",
   "metadata": {},
   "outputs": [],
   "source": [
    "problem = {\n",
    "    \"num_vars\":8,\n",
    "    \"names\":[\"timesteps\",\"depth\",\"width\",\"lr\",\"w1\",\n",
    "             \"w2\",\"w3\",\"w4\"],\n",
    "    \"bounds\":[[0.8*514,1.2*514],[0.8*10,1.2*10],[0.8*43,1.2*43],[0.8*0.23,1.2*0.23],[0.8*10.27,1.2*10.27],\n",
    "              [0.8*0.54,1.2*0.54],[0.8*10.90,1.2*10.90],[0.8*0.00045,1.2*0.00045]]\n",
    "}\n",
    "\n",
    "param_values = saltelli.sample(problem,4096,False,skip_values=2*4096)\n",
    "\n",
    "Y = Pool(ncores).map(model_eval,param_values)\n",
    "\n",
    "np.save(\"parameter_values_second_order_2_new.npy\",param_values)\n",
    "np.save(\"model_results_second_order_2_new.npy\",Y)\n",
    "\n",
    "S = sobol.analyze(problem,Y,calc_second_order=True)\n",
    "\n",
    "total_Si, first_Si = S.to_df()\n",
    "\n",
    "Si = pd.concat([total_Si,first_Si],axis=1)\n",
    "\n",
    "Si.to_csv(\"Data/SobolSensitivityAnalysis_second_order_2.csv\")"
   ]
  },
  {
   "cell_type": "code",
   "execution_count": 3,
   "id": "41c510f5-9b1f-4598-897c-bde5e9fcb00b",
   "metadata": {},
   "outputs": [],
   "source": [
    "results = pd.read_csv(\"Data/SobolSensitivityAnalysis_second_order_2.csv\",index_col=0)\n",
    "parameter_values = np.load(\"Data/parameter_values_second_order_2.npy\")\n",
    "model_outputs = np.load(\"Data/model_results_second_order_2.npy\")\n",
    "df = pd.DataFrame(data=parameter_values)\n",
    "df[\"validation\"] = model_outputs\n",
    "df = df.sort_values(\"validation\")"
   ]
  },
  {
   "cell_type": "code",
   "execution_count": 4,
   "id": "64ddcde6-40b9-4db1-9a22-7b2d0eb70a57",
   "metadata": {},
   "outputs": [],
   "source": [
    "table1 = results.iloc[:8,:-2]\n",
    "table2 = results.iloc[8:,-2:]\n",
    "table1 = table1.sort_values(\"ST\",ascending=False)"
   ]
  },
  {
   "cell_type": "code",
   "execution_count": 5,
   "id": "7758b631-f5e9-4726-bcb3-fee3f369339c",
   "metadata": {},
   "outputs": [
    {
     "data": {
      "text/plain": [
       "<matplotlib.legend.Legend at 0x7f77bc3a2670>"
      ]
     },
     "execution_count": 5,
     "metadata": {},
     "output_type": "execute_result"
    },
    {
     "data": {
      "image/png": "[encoded data removed]",
      "text/plain": [
       "<Figure size 432x288 with 1 Axes>"
      ]
     },
     "metadata": {
      "needs_background": "light"
     },
     "output_type": "display_data"
    }
   ],
   "source": [
    "plt.bar(table1.index,table1[\"ST\"],yerr=table1[\"ST_conf\"]/2,capsize=5,ecolor=\"k\",error_kw={\"elinewidth\":1.},label=r\"$S_T$\")#,color=\"green\",alpha=1)\n",
    "plt.bar(table1.index,table1[\"S1\"],yerr=table1[\"S1_conf\"]/2,capsize=5,ecolor=\"k\",error_kw={\"elinewidth\":1.},label=r\"$S_1$\")#,color=\"orange\",alpha=1)\n",
    "plt.legend()"
   ]
  },
  {
   "cell_type": "code",
   "execution_count": 6,
   "id": "c5024cfd-3952-473c-9b87-47c0563a20da",
   "metadata": {},
   "outputs": [],
   "source": [
    "S2 = np.zeros((8,8))\n",
    "S2[0,1] = table2[\"S2\"][0]\n",
    "S2[0,2] = table2[\"S2\"][1]\n",
    "S2[0,3] = table2[\"S2\"][2]\n",
    "S2[0,4] = table2[\"S2\"][3]\n",
    "S2[0,5] = table2[\"S2\"][4]\n",
    "S2[0,6] = table2[\"S2\"][5]\n",
    "S2[0,7] = table2[\"S2\"][6]\n",
    "S2[1,2] = table2[\"S2\"][7]\n",
    "S2[1,3] = table2[\"S2\"][8]\n",
    "S2[1,4] = table2[\"S2\"][9]\n",
    "S2[1,5] = table2[\"S2\"][10]\n",
    "S2[1,6] = table2[\"S2\"][11]\n",
    "S2[1,7] = table2[\"S2\"][12]\n",
    "S2[2,3] = table2[\"S2\"][13]\n",
    "S2[2,4] = table2[\"S2\"][14]\n",
    "S2[2,5] = table2[\"S2\"][15]\n",
    "S2[2,6] = table2[\"S2\"][16]\n",
    "S2[2,7] = table2[\"S2\"][17]\n",
    "S2[3,4] = table2[\"S2\"][18]\n",
    "S2[3,5] = table2[\"S2\"][19]\n",
    "S2[3,6] = table2[\"S2\"][20]\n",
    "S2[3,7] = table2[\"S2\"][21]\n",
    "S2[4,5] = table2[\"S2\"][22]\n",
    "S2[4,6] = table2[\"S2\"][23]\n",
    "S2[4,7] = table2[\"S2\"][24]\n",
    "S2[5,6] = table2[\"S2\"][25]\n",
    "S2[5,7] = table2[\"S2\"][26]\n",
    "S2[6,7] = table2[\"S2\"][27]\n",
    "\n",
    "S2[0,0] = table1[\"S1\"][7]\n",
    "S2[1,1] = table1[\"S1\"][0]\n",
    "S2[2,2] = table1[\"S1\"][1]\n",
    "S2[3,3] = table1[\"S1\"][3]\n",
    "S2[4,4] = table1[\"S1\"][2]\n",
    "S2[5,5] = table1[\"S1\"][4]\n",
    "S2[6,6] = table1[\"S1\"][6]\n",
    "S2[7,7] = table1[\"S1\"][5]\n",
    "\n",
    "for i in range(8):\n",
    "    for j in range(i):\n",
    "        S2[i,j] = S2[j,i]\n",
    "for i in range(8):\n",
    "    for j in range(8):\n",
    "        S2[i,j] = abs(S2[i,j])\n",
    "names = [\"timesteps\",\"depth\",\"width\",\"lr\",\"w1\",\"w2\",\"w3\",\"w4\"]\n",
    "S2 = pd.DataFrame(S2,index=names,columns=names)"
   ]
  },
  {
   "cell_type": "code",
   "execution_count": 7,
   "id": "52f5d7fa-c140-44d5-944f-bb738d8dbad5",
   "metadata": {},
   "outputs": [
    {
     "data": {
      "text/plain": [
       "<matplotlib.colorbar.Colorbar at 0x7f77c1abd790>"
      ]
     },
     "execution_count": 7,
     "metadata": {},
     "output_type": "execute_result"
    },
    {
     "data": {
      "image/png": "[encoded data removed]",
      "text/plain": [
       "<Figure size 720x432 with 2 Axes>"
      ]
     },
     "metadata": {
      "needs_background": "light"
     },
     "output_type": "display_data"
    }
   ],
   "source": [
    "fig = plt.figure(figsize=(10,6))\n",
    "plt.colorbar(plt.imshow(S2,cmap=\"Blues_r\",alpha=0.9))"
   ]
  },
  {
   "cell_type": "code",
   "execution_count": 8,
   "id": "3b92b887-a576-498c-b357-000ff208a82f",
   "metadata": {},
   "outputs": [
    {
     "data": {
      "text/plain": [
       "(54422, 73728, 73.81456163194444)"
      ]
     },
     "execution_count": 8,
     "metadata": {},
     "output_type": "execute_result"
    }
   ],
   "source": [
    "params = np.load(\"Data/parameter_values_second_order_2.npy\")\n",
    "values = np.load(\"Data/model_results_second_order_2.npy\")\n",
    "indices = values<2e-4 #(74%) #3.165e-5 (10%)\n",
    "sum(indices), len(values), 100*sum(indices)/len(values)"
   ]
  },
  {
   "cell_type": "code",
   "execution_count": 9,
   "id": "6c7890cd-85d2-44c7-9f68-184ea7950e83",
   "metadata": {},
   "outputs": [],
   "source": [
    "regParams = params[indices]\n",
    "regValues = values[indices]"
   ]
  },
  {
   "cell_type": "code",
   "execution_count": 10,
   "id": "99f15cf6-b50b-449e-9ce3-708a39065eda",
   "metadata": {},
   "outputs": [
    {
     "data": {
      "text/plain": [
       "<matplotlib.collections.PolyCollection at 0x7f77c1afe490>"
      ]
     },
     "execution_count": 10,
     "metadata": {},
     "output_type": "execute_result"
    },
    {
     "data": {
      "image/png": "[encoded data removed]",
      "text/plain": [
       "<Figure size 576x360 with 1 Axes>"
      ]
     },
     "metadata": {
      "needs_background": "light"
     },
     "output_type": "display_data"
    }
   ],
   "source": [
    "from scipy.interpolate import interp1d\n",
    "\n",
    "plt.figure(figsize=(8,5))\n",
    "plt.xlabel(\"Validation loss (millionths)\")\n",
    "plt.ylabel(\"Density\")\n",
    "vals,bins,_ = plt.hist(regValues*1e6,bins=50,density=True,alpha=0.)#,color=\"blue\")\n",
    "bins = 0.5*(bins[1:]+bins[:-1])\n",
    "\n",
    "inter = interp1d(bins,vals,kind='quadratic',bounds_error=False)\n",
    "xplot = np.linspace(15,200,500)\n",
    "plt.fill_between(xplot,inter(xplot),color='b',alpha=0.5)"
   ]
  },
  {
   "cell_type": "code",
   "execution_count": null,
   "id": "bc3aeed5-b4d2-48c8-91fb-5ab52ae43e98",
   "metadata": {},
   "outputs": [],
   "source": []
  }
 ],
 "metadata": {
  "kernelspec": {
   "display_name": "Python 3",
   "language": "python",
   "name": "python3"
  },
  "language_info": {
   "codemirror_mode": {
    "name": "ipython",
    "version": 3
   },
   "file_extension": ".py",
   "mimetype": "text/x-python",
   "name": "python",
   "nbconvert_exporter": "python",
   "pygments_lexer": "ipython3",
   "version": "3.8.8"
  }
 },
 "nbformat": 4,
 "nbformat_minor": 5
}
