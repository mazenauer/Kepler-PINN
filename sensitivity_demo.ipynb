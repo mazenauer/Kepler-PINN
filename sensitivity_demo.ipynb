{
 "cells": [
  {
   "cell_type": "code",
   "execution_count": 1,
   "id": "263a4598",
   "metadata": {
    "tags": []
   },
   "outputs": [
    {
     "name": "stdout",
     "output_type": "stream",
     "text": [
      "Running on CPU\n",
      "\n"
     ]
    }
   ],
   "source": [
    "from twoBodyPINN_euler import *\n",
    "from SALib.sample import saltelli\n",
    "from SALib.analyze import sobol\n",
    "import multiprocessing as mp\n",
    "import pandas as pd\n",
    "import numpy as np\n",
    "#from os import sched_getaffinity\n",
    "from time import time\n",
    "import seaborn as sns\n",
    "\n",
    "#ncores = len(sched_getaffinity(0))\n",
    "ncores = 1"
   ]
  },
  {
   "cell_type": "code",
   "execution_count": null,
   "id": "e24d6ca6",
   "metadata": {},
   "outputs": [],
   "source": [
    "def model(timesteps,depth,width,lr,w1,w2,w3,w4):\n",
    "        args = {\n",
    "                \"timesteps\":int(timesteps),\n",
    "                \"depth\":int(depth),\n",
    "                \"width\":int(width),\n",
    "                \"lr\":lr,\n",
    "                \"weights\":[w1,w2,w3,w4],\n",
    "                \"Tmax\":4*np.pi,\n",
    "                \"initial\":[1,0,0,1.1],\n",
    "                \"epochs\":3,\n",
    "                \"seed\":2475\n",
    "               }\n",
    "        return trainNetwork(**args)[1][-1]\n",
    "def model_eval(x):\n",
    "    return model(*x)"
   ]
  },
  {
   "cell_type": "code",
   "execution_count": null,
   "id": "d421988a",
   "metadata": {},
   "outputs": [],
   "source": [
    "problem = {\n",
    "    \"num_vars\":8,\n",
    "    \"names\":[\"timesteps\",\"depth\",\"width\",\"lr\",\"w1\",\n",
    "             \"w2\",\"w3\",\"w4\"],\n",
    "    \"bounds\":[[0.8*514,1.2*514],[0.8*10,1.2*10],[0.8*43,1.2*43],[0.8*0.23,1.2*0.23],[0.8*10.27,1.2*10.27],\n",
    "              [0.8*0.54,1.2*0.54],[0.8*10.90,1.2*10.90],[0.8*0.00045,1.2*0.00045]]\n",
    "}\n",
    "\n",
    "#param_values = saltelli.sample(problem,4096,True,skip_values=4096)\n",
    "param_values = np.load(\"Data/parameter_values_second_order_2_final.npy\")\n",
    "\n",
    "start = time()\n",
    "Y = Pool(ncores).map(model_eval,param_values)\n",
    "end = time()\n",
    "\n",
    "np.save(\"Data/parameter_values_second_order_2_final.npy\",param_values)\n",
    "np.save(\"Data/model_outputs_second_order_2_final.npy\",Y)\n",
    "\n",
    "S = sobol.analyze(problem,np.array(Y),calc_second_order=True)\n",
    "\n",
    "total_Si, first_Si, second_Si = S.to_df()\n",
    "\n",
    "Si = pd.concat([total_Si,first_Si,second_Si],axis=1)\n",
    "\n",
    "Si.to_csv(\"Data/SobolSensitivityAnalysis_second_order_2_final.csv\")\n",
    "\n",
    "with open('time_final.txt', 'w') as f:\n",
    "    f.write(f\"Time required for the calculation of {param_values.shape[0]} values is {round((end-start)/3600,2)} hours.\")\n",
    "\n",
    "end-start"
   ]
  },
  {
   "cell_type": "code",
   "execution_count": 2,
   "id": "e49a1738",
   "metadata": {},
   "outputs": [],
   "source": [
    "param_values = np.load(\"Data/parameter_values_second_order_2_final.npy\")\n",
    "model_results = np.load(\"Data/model_results_second_order_2_final.npy\")\n",
    "S = pd.read_csv(\"Data/SobolSensitivityAnalysis_second_order_2_final.csv\")\n",
    "data = pd.DataFrame(param_values)\n",
    "data[\"loss\"] = model_results"
   ]
  },
  {
   "cell_type": "code",
   "execution_count": null,
   "id": "0f602631",
   "metadata": {},
   "outputs": [],
   "source": [
    "def nearest_neighbor(el,df):\n",
    "    minnorm = np.inf\n",
    "    index = -1\n",
    "    for i in range(df.shape[0]):\n",
    "        other = df.iloc[i,:].values\n",
    "        dist = np.linalg.norm(el-other[:-1])\n",
    "        minnorm = dist if ((dist<minnorm) and dist>1e-16) else minnorm\n",
    "        index = i\n",
    "    return index, minnorm"
   ]
  },
  {
   "cell_type": "code",
   "execution_count": null,
   "id": "da62474c",
   "metadata": {
    "tags": []
   },
   "outputs": [],
   "source": [
    "for i in range(data.shape[0]):\n",
    "    if str(data.iloc[i,-1])=='nan':\n",
    "        data.iloc[i,-1] = data.iloc[nearest_neighbor(data.iloc[i,:-1].values,data)[0],-1]"
   ]
  },
  {
   "cell_type": "code",
   "execution_count": 4,
   "id": "a7ed1638-f5b8-4dff-b98b-6a055a241875",
   "metadata": {},
   "outputs": [],
   "source": [
    "#data.to_csv(\"Data/finalSobolPointsWLoss.csv\")\n",
    "data = pd.read_csv(\"Data/finalSobolPointsWLoss.csv\")"
   ]
  },
  {
   "cell_type": "code",
   "execution_count": 7,
   "id": "d661cf7e-70b1-48a9-8b7a-6bd6416eaf23",
   "metadata": {},
   "outputs": [],
   "source": [
    "param_values = data.iloc[:,:-1].values\n",
    "model_outputs = data.iloc[:,-1].values"
   ]
  },
  {
   "cell_type": "code",
   "execution_count": 8,
   "id": "3470edd1-e6db-4c37-ac94-aa38ba73e90a",
   "metadata": {},
   "outputs": [],
   "source": [
    "problem = {\n",
    "    \"num_vars\":8,\n",
    "    \"names\":[\"timesteps\",\"depth\",\"width\",\"lr\",\"w1\",\n",
    "             \"w2\",\"w3\",\"w4\"],\n",
    "    \"bounds\":[[0.8*514,1.2*514],[0.8*10,1.2*10],[0.8*43,1.2*43],[0.8*0.23,1.2*0.23],[0.8*10.27,1.2*10.27],\n",
    "              [0.8*0.54,1.2*0.54],[0.8*10.90,1.2*10.90],[0.8*0.00045,1.2*0.00045]]\n",
    "}\n",
    "\n",
    "S = sobol.analyze(problem,model_outputs,calc_second_order=True)\n",
    "\n",
    "total_Si, first_Si, second_Si = S.to_df()\n",
    "Si = pd.concat([total_Si,first_Si,second_Si],axis=1)"
   ]
  },
  {
   "cell_type": "code",
   "execution_count": 9,
   "id": "2b4341c4-a3e4-473a-8bdb-84863b5fc793",
   "metadata": {},
   "outputs": [],
   "source": [
    "table1 = Si.iloc[:8,:-2]\n",
    "table2 = Si.iloc[8:,-2:]\n",
    "table1 = table1.sort_values(\"ST\",ascending=False)"
   ]
  },
  {
   "cell_type": "code",
   "execution_count": null,
   "id": "41e1e619-c4d0-4cb0-b38d-5563297ea345",
   "metadata": {},
   "outputs": [],
   "source": [
    "print(table1.to_latex(float_format=\"%.3f\"))"
   ]
  },
  {
   "cell_type": "code",
   "execution_count": null,
   "id": "23467621-e551-43d9-af74-67b1554c89ab",
   "metadata": {},
   "outputs": [],
   "source": [
    "print(table2.to_latex(float_format=\"%.3f\"))"
   ]
  },
  {
   "cell_type": "code",
   "execution_count": 10,
   "id": "185d3dda-0f9e-46d9-b130-46cdf9b6465c",
   "metadata": {},
   "outputs": [],
   "source": [
    "S2 = np.zeros((8,8))\n",
    "S2[0,1] = table2[\"S2\"][0]\n",
    "S2[0,2] = table2[\"S2\"][1]\n",
    "S2[0,3] = table2[\"S2\"][2]\n",
    "S2[0,4] = table2[\"S2\"][3]\n",
    "S2[0,5] = table2[\"S2\"][4]\n",
    "S2[0,6] = table2[\"S2\"][5]\n",
    "S2[0,7] = table2[\"S2\"][6]\n",
    "S2[1,2] = table2[\"S2\"][7]\n",
    "S2[1,3] = table2[\"S2\"][8]\n",
    "S2[1,4] = table2[\"S2\"][9]\n",
    "S2[1,5] = table2[\"S2\"][10]\n",
    "S2[1,6] = table2[\"S2\"][11]\n",
    "S2[1,7] = table2[\"S2\"][12]\n",
    "S2[2,3] = table2[\"S2\"][13]\n",
    "S2[2,4] = table2[\"S2\"][14]\n",
    "S2[2,5] = table2[\"S2\"][15]\n",
    "S2[2,6] = table2[\"S2\"][16]\n",
    "S2[2,7] = table2[\"S2\"][17]\n",
    "S2[3,4] = table2[\"S2\"][18]\n",
    "S2[3,5] = table2[\"S2\"][19]\n",
    "S2[3,6] = table2[\"S2\"][20]\n",
    "S2[3,7] = table2[\"S2\"][21]\n",
    "S2[4,5] = table2[\"S2\"][22]\n",
    "S2[4,6] = table2[\"S2\"][23]\n",
    "S2[4,7] = table2[\"S2\"][24]\n",
    "S2[5,6] = table2[\"S2\"][25]\n",
    "S2[5,7] = table2[\"S2\"][26]\n",
    "S2[6,7] = table2[\"S2\"][27]\n",
    "\n",
    "S2[0,0] = table1[\"S1\"][7]\n",
    "S2[1,1] = table1[\"S1\"][0]\n",
    "S2[2,2] = table1[\"S1\"][1]\n",
    "S2[3,3] = table1[\"S1\"][3]\n",
    "S2[4,4] = table1[\"S1\"][2]\n",
    "S2[5,5] = table1[\"S1\"][4]\n",
    "S2[6,6] = table1[\"S1\"][6]\n",
    "S2[7,7] = table1[\"S1\"][5]\n",
    "\n",
    "for i in range(8):\n",
    "    for j in range(i):\n",
    "        S2[i,j] = S2[j,i]\n",
    "for i in range(8):\n",
    "    for j in range(8):\n",
    "        S2[i,j] = abs(S2[i,j])\n",
    "names = [\"timesteps\",\"depth\",\"width\",\"lr\",\"w1\",\"w2\",\"w3\",\"w4\"]\n",
    "S2 = pd.DataFrame(S2,index=names,columns=names)"
   ]
  },
  {
   "cell_type": "code",
   "execution_count": 11,
   "id": "d918a0f2-018e-4530-81a0-a59a672e944d",
   "metadata": {},
   "outputs": [
    {
     "data": {
      "text/plain": [
       "<matplotlib.legend.Legend at 0x7fd5b5a066a0>"
      ]
     },
     "execution_count": 11,
     "metadata": {},
     "output_type": "execute_result"
    },
    {
     "data": {
      "image/png": "[encoded data removed]",
      "text/plain": [
       "<Figure size 432x288 with 1 Axes>"
      ]
     },
     "metadata": {
      "needs_background": "light"
     },
     "output_type": "display_data"
    }
   ],
   "source": [
    "plt.bar(table1.index,table1[\"ST\"],yerr=table1[\"ST_conf\"]/2,capsize=5,ecolor=\"k\",error_kw={\"elinewidth\":1.},label=r\"$S_T$\")#,color=\"green\",alpha=1)\n",
    "plt.bar(table1.index,table1[\"S1\"],yerr=table1[\"S1_conf\"]/2,capsize=5,ecolor=\"k\",error_kw={\"elinewidth\":1.},label=r\"$S_1$\")#,color=\"orange\",alpha=1)\n",
    "plt.legend()"
   ]
  },
  {
   "cell_type": "code",
   "execution_count": 12,
   "id": "ce0248e5-3b78-470f-9ed6-bcadaa2fa606",
   "metadata": {},
   "outputs": [
    {
     "data": {
      "text/plain": [
       "<AxesSubplot:>"
      ]
     },
     "execution_count": 12,
     "metadata": {},
     "output_type": "execute_result"
    },
    {
     "data": {
      "image/png": "[encoded data removed]",
      "text/plain": [
       "<Figure size 720x432 with 2 Axes>"
      ]
     },
     "metadata": {
      "needs_background": "light"
     },
     "output_type": "display_data"
    }
   ],
   "source": [
    "fig = plt.figure(figsize=(10,6))\n",
    "sns.heatmap(S2,cmap=\"Blues_r\",alpha=1)"
   ]
  },
  {
   "cell_type": "code",
   "execution_count": 13,
   "id": "e16139d1-503b-4ae5-a8f7-0ab5cf2e1df1",
   "metadata": {},
   "outputs": [
    {
     "data": {
      "text/plain": [
       "(55275, 73728, 74.97151692708333)"
      ]
     },
     "execution_count": 13,
     "metadata": {},
     "output_type": "execute_result"
    }
   ],
   "source": [
    "values = model_outputs\n",
    "indices = values<37e-6 #(75%) \n",
    "smallindices = values<6.37e-6 #(10%)\n",
    "sum(indices), len(values), 100*sum(indices)/len(values)"
   ]
  },
  {
   "cell_type": "code",
   "execution_count": 14,
   "id": "0abb64fb-b469-47ce-a0a8-30e5dccc4c79",
   "metadata": {},
   "outputs": [
    {
     "data": {
      "text/plain": [
       "<matplotlib.collections.PolyCollection at 0x7fd5b631db20>"
      ]
     },
     "execution_count": 14,
     "metadata": {},
     "output_type": "execute_result"
    },
    {
     "data": {
      "image/png": "[encoded data removed]",
      "text/plain": [
       "<Figure size 576x360 with 1 Axes>"
      ]
     },
     "metadata": {
      "needs_background": "light"
     },
     "output_type": "display_data"
    }
   ],
   "source": [
    "regParams = param_values[indices]\n",
    "regValues = values[indices]\n",
    "\n",
    "plt.figure(figsize=(8,5))\n",
    "plt.xlabel(r\"Validation loss $\\times 10^6$\")\n",
    "plt.ylabel(\"Density\")\n",
    "vals,bins,_ = plt.hist(regValues*1e6,bins=50,density=True,alpha=0.)#,color=\"blue\")\n",
    "bins = 0.5*(bins[1:]+bins[:-1])\n",
    "\n",
    "from scipy.interpolate import interp1d\n",
    "inter = interp1d(bins,vals,kind='quadratic',bounds_error=False)\n",
    "xplot = np.linspace(0,200,500)\n",
    "plt.fill_between(xplot,inter(xplot),color='b',alpha=0.5)"
   ]
  },
  {
   "cell_type": "code",
   "execution_count": null,
   "id": "c5df7c88-3a6d-4435-a604-6440429e2366",
   "metadata": {},
   "outputs": [],
   "source": [
    "import scipy.stats as stats\n",
    "res = stats.describe(regValues)\n",
    "#res = stats.describe(model_outputs[smallindices])\n",
    "print(\"kurtosis \\t\",res.kurtosis)\n",
    "print(\"mean \\t\\t\",res.mean)\n",
    "print(\"minmax \\t\\t\",res.minmax)\n",
    "print(\"nobs \\t\\t\",res.nobs)\n",
    "print(\"skewness \\t\",res.skewness)\n",
    "print(\"variance \\t\",res.variance)"
   ]
  },
  {
   "cell_type": "code",
   "execution_count": null,
   "id": "b40c4594-176a-48a6-9f6c-0234d81b8004",
   "metadata": {},
   "outputs": [],
   "source": [
    "data = pd.DataFrame(data=param_values,columns=[\"timesteps\",\"depth\",\"width\",\"lr\",\"w1\",\"w2\",\"w3\",\"w4\"])\n",
    "data[\"loss\"] = values\n",
    "data[\"w4\"] *= 1000\n",
    "sortData = data.sort_values(by=\"loss\")\n",
    "data = data[indices]\n",
    "print(data.describe().loc[[\"mean\",\"std\",\"min\",\"max\"]].drop(\"loss\",axis=1).to_latex(float_format=\"%.3f\"))"
   ]
  },
  {
   "cell_type": "code",
   "execution_count": null,
   "id": "62ecf23f-bced-4628-a1e8-54a6c25b8eb3",
   "metadata": {},
   "outputs": [],
   "source": [
    "data = pd.DataFrame(data=param_values,columns=[\"timesteps\",\"depth\",\"width\",\"lr\",\"w1\",\"w2\",\"w3\",\"w4\"])\n",
    "data[\"loss\"] = values\n",
    "data[\"w4\"] *= 1000\n",
    "sortData = data.sort_values(by=\"loss\")\n",
    "data = data[smallindices]\n",
    "print(data.describe().loc[[\"mean\",\"std\",\"min\",\"max\"]].drop(\"loss\",axis=1).to_latex(float_format=\"%.3f\"))"
   ]
  }
 ],
 "metadata": {
  "kernelspec": {
   "display_name": "Python 3",
   "language": "python",
   "name": "python3"
  },
  "language_info": {
   "codemirror_mode": {
    "name": "ipython",
    "version": 3
   },
   "file_extension": ".py",
   "mimetype": "text/x-python",
   "name": "python",
   "nbconvert_exporter": "python",
   "pygments_lexer": "ipython3",
   "version": "3.8.8"
  }
 },
 "nbformat": 4,
 "nbformat_minor": 5
}
