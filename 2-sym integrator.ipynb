{
 "cells": [
  {
   "cell_type": "code",
   "execution_count": 1,
   "id": "6002c8d0-30ea-4248-8f64-12200fd45ce5",
   "metadata": {},
   "outputs": [],
   "source": [
    "import numpy as np\n",
    "import matplotlib.pyplot as plt\n",
    "from scipy.interpolate import interp1d\n",
    "from benchmark import benchmark\n",
    "from scipy.optimize import fsolve,curve_fit\n",
    "import seaborn as sns\n",
    "#sns.set()\n",
    "%matplotlib qt5\n",
    "#import numba as nb\n",
    "#from numba.experimental import jitclass"
   ]
  },
  {
   "cell_type": "code",
   "execution_count": 3,
   "id": "08511cef-3650-4d2d-8f8f-e669ac079b37",
   "metadata": {},
   "outputs": [],
   "source": [
    "\"\"\"@jitclass({\n",
    "            'q':nb.float64,\n",
    "            'p':nb.float64,\n",
    "            'x':nb.float64,\n",
    "            'y':nb.float64,\n",
    "            't':nb.float64,\n",
    "            'H':nb.float64,\n",
    "            'L':nb.float64\n",
    "         })\"\"\"\n",
    "class State:\n",
    "    \n",
    "    def __init__(self,q,p):\n",
    "        self.q = np.asarray(q,dtype=np.float64)\n",
    "        self.p = np.asarray(p,dtype=np.float64)\n",
    "        self.x = np.array([self.q[0]])\n",
    "        self.y = np.array([self.q[1]])\n",
    "        self.px = np.array([self.p[0]])\n",
    "        self.py = np.array([self.p[1]])\n",
    "        self.t = np.array([0])\n",
    "        self.H = np.array([self.Hamiltonian()])\n",
    "        self.L = np.array([self.angularMomentum()])\n",
    "        #self.A = np.array([self.LRL()])\n",
    "        \n",
    "    def showState(self):\n",
    "        x,y = self.q\n",
    "        #fig,ax = plt.subplots()\n",
    "        #ax.set_aspect(1)\n",
    "        plt.scatter([0,x],[0,y])\n",
    "        plt.xlim(-abs(x)*1.1,abs(x)*1.1)\n",
    "        plt.ylim(-abs(y)*1.1,abs(y)*1.1)\n",
    "        plt.show()\n",
    "        \n",
    "    def showTrace(self,marker='b-'):\n",
    "        fig,ax = plt.subplots(figsize=(8,8))\n",
    "        ax.set_aspect(1)\n",
    "        plt.plot(self.x,self.y,marker)\n",
    "        plt.scatter([0],[0],color=\"red\")\n",
    "        plt.xlim(-np.max(np.abs(self.x))*1.1,np.max(np.abs(self.x))*1.1)\n",
    "        plt.ylim(-np.max(np.abs(self.y))*1.1,np.max(np.abs(self.y))*1.1)\n",
    "        plt.show()\n",
    "        \n",
    "    def showStats(self):\n",
    "        if len(self.H) == 0:\n",
    "            raise \"No stats saved\"\n",
    "        fig,ax = plt.subplots(1,2,figsize=(8,6))\n",
    "        ax[0].plot(self.t,self.H,'b-')\n",
    "        ax[1].plot(self.t,self.L,'g-')\n",
    "        plt.show()\n",
    "    \n",
    "    def qdot(self,p):\n",
    "        return p\n",
    "    \n",
    "    def pdot(self,q):\n",
    "        return -q/np.linalg.norm(q)**3\n",
    "    \n",
    "    def Hamiltonian(self):\n",
    "        return 0.5*np.linalg.norm(self.p)**2-1/np.linalg.norm(self.q)\n",
    "    \n",
    "    def angularMomentum(self):\n",
    "        return self.q[1]*self.p[0]-self.q[0]*self.p[1]\n",
    "    \n",
    "    def symplecticEulerStep(self,dt):\n",
    "        self.q += dt*self.qdot(self.p)\n",
    "        self.p += dt*self.pdot(self.q)\n",
    "        \n",
    "    def impTrapStep(self,dt):\n",
    "        def hfunc(x):\n",
    "            return np.array([x[0:2]-self.q-0.5*dt*(self.qdot(self.p)+self.qdot(x[2:])), x[2:]-self.p-0.5*dt*(self.pdot(self.q)+self.pdot(x[:2]))]).ravel()\n",
    "        x = np.array([self.q,self.p]).ravel()\n",
    "        xnew = fsolve(hfunc,x)\n",
    "        self.q = xnew[:2]\n",
    "        self.p = xnew[2:]\n",
    "    \n",
    "    def explicitEulerStep(self,dt):\n",
    "        q = self.q\n",
    "        p = self.p\n",
    "        self.q = q+dt*self.qdot(p)\n",
    "        self.p = p+dt*self.pdot(q)\n",
    "        \n",
    "    def RK4Step(self,dt):\n",
    "        q,p = self.q,self.p\n",
    "        k1,l1 = self.qdot(p),self.pdot(q)\n",
    "        k2,l2 = self.qdot(p+0.5*dt*l1),self.pdot(q+0.5*dt*k1)\n",
    "        k3,l3 = self.qdot(p+0.5*dt*l2),self.pdot(q+0.5*dt*k2)\n",
    "        k4,l4 = self.qdot(p+dt*l3),self.pdot(q+dt*k3)\n",
    "        self.q += dt/6*(k1+2*k2+2*k3+k4)\n",
    "        self.p += dt/6*(l1+2*l2+2*l3+l4)\n",
    "        \n",
    "    def symmetricRuthStep(self,dt):\n",
    "        b = [7/48,3/8,-1/48,-1/48,3/8,7/48]\n",
    "        bhat = [1/3,-1/3,1,-1/3,1/3,0]\n",
    "        n = len(b)\n",
    "        for i in range(n):\n",
    "            self.p += b[i]*dt*self.pdot(self.q)\n",
    "            self.q += bhat[i]*dt*self.qdot(self.p)\n",
    "            \n",
    "    def GaussLegendreStep(self,dt): #nöd ready!!\n",
    "        A = [[1/4,1/4-np.sqrt(3)/6],[1/4+np.sqrt(3)/6]]\n",
    "        b = [1/2,1/2]\n",
    "        x0 = np.array([self.q,self.p],dtype=float)\n",
    "        def f(x):\n",
    "            return np.array([self.qdot(x[2:]),self.pdot(x[:2])],dtype=float)\n",
    "        def kfunc(k):\n",
    "            return np.array([k[0]-f(x0+dt*A[0][0]*k[0]+dt*A[0][1]*k[1]),k[1]-f(x0+dt*A[1][0]*k[0]+dt*A[1][1]*k[1])])\n",
    "        k = fsolve(kfunc,np.ones((2,2,2)))\n",
    "        x1 = x0+dt*b[0]*k[0]+dt*b[1]*k[1]\n",
    "        self.q,self.p = x[:2],x[2:]\n",
    "    \n",
    "    def evolve(self,dt,Tmax,saveStats=True,saveNthStep=False,solver=None):\n",
    "        t = 0\n",
    "        if saveNthStep==False:\n",
    "            saveNthStep = 1\n",
    "        if solver==None:\n",
    "            solver = self.symmetricRuthStep\n",
    "        if saveStats:\n",
    "            while t<Tmax:\n",
    "                for i in range(saveNthStep):\n",
    "                    solver(dt)\n",
    "                    t += dt\n",
    "                self.x = np.append(self.x,self.q[0])\n",
    "                self.y = np.append(self.y,self.q[1])\n",
    "                self.px = np.append(self.px,self.p[0])\n",
    "                self.py = np.append(self.py,self.p[1])\n",
    "                self.t = np.append(self.t,t)\n",
    "                self.H = np.append(self.H,self.Hamiltonian())\n",
    "                self.L = np.append(self.L,self.angularMomentum())\n",
    "             \n",
    "            #print(f\"Stepsize is {dt}, done {int(Tmax/dt)} steps and saved {int(Tmax/dt/saveNthStep)} of them at steps of {dt*saveNthStep}\")\n",
    "            return self.t,self.x,self.y,self.H,self.L\n",
    "        \n",
    "        else:\n",
    "            while t<Tmax:\n",
    "                solver(dt)\n",
    "            return\n",
    "                \n",
    "    def getFunction(self):\n",
    "        xfun = interp1d(self.t,self.x,kind=\"cubic\")\n",
    "        yfun = interp1d(self.t,self.y,kind=\"cubic\")\n",
    "        return xfun,yfun\n",
    "    \n",
    "s = State(q0,p0)\n",
    "for i in range(10):\n",
    "    s.impTrapStep(0.1)\n",
    "    #print(s.q)"
   ]
  },
  {
   "cell_type": "code",
   "execution_count": 103,
   "id": "23e4e748-ec83-45ca-8c1a-ddd2d53ac98e",
   "metadata": {
    "collapsed": true,
    "jupyter": {
     "outputs_hidden": true,
     "source_hidden": true
    },
    "tags": []
   },
   "outputs": [
    {
     "data": {
      "image/png": "[encoded data removed]",
      "text/plain": [
       "<Figure size 576x576 with 1 Axes>"
      ]
     },
     "metadata": {
      "needs_background": "light"
     },
     "output_type": "display_data"
    },
    {
     "data": {
      "image/png": "[encoded data removed]",
      "text/plain": [
       "<Figure size 576x432 with 2 Axes>"
      ]
     },
     "metadata": {
      "needs_background": "light"
     },
     "output_type": "display_data"
    }
   ],
   "source": [
    "s = State([1,0],[0,1])\n",
    "s.evolve(0.5,500,True,10)#,solver=s.symplecticEulerStep)\n",
    "s.showTrace('b.')\n",
    "s.showStats()"
   ]
  },
  {
   "cell_type": "code",
   "execution_count": 6,
   "id": "41ddaee7-1149-4882-b21f-dcc1a7229359",
   "metadata": {
    "collapsed": true,
    "jupyter": {
     "outputs_hidden": true
    },
    "tags": []
   },
   "outputs": [
    {
     "ename": "ValueError",
     "evalue": "The number of derivatives at boundaries does not match: expected 3, got 0+0",
     "output_type": "error",
     "traceback": [
      "\u001b[0;31m---------------------------------------------------------------------------\u001b[0m",
      "\u001b[0;31mValueError\u001b[0m                                Traceback (most recent call last)",
      "\u001b[0;32m<ipython-input-6-06ef6a89c160>\u001b[0m in \u001b[0;36m<module>\u001b[0;34m\u001b[0m\n\u001b[1;32m      1\u001b[0m \u001b[0mt\u001b[0m \u001b[0;34m=\u001b[0m \u001b[0mnp\u001b[0m\u001b[0;34m.\u001b[0m\u001b[0mlinspace\u001b[0m\u001b[0;34m(\u001b[0m\u001b[0;36m0\u001b[0m\u001b[0;34m,\u001b[0m\u001b[0;36m20\u001b[0m\u001b[0;34m,\u001b[0m\u001b[0;36m100\u001b[0m\u001b[0;34m)\u001b[0m\u001b[0;34m\u001b[0m\u001b[0;34m\u001b[0m\u001b[0m\n\u001b[1;32m      2\u001b[0m \u001b[0mplt\u001b[0m\u001b[0;34m.\u001b[0m\u001b[0mplot\u001b[0m\u001b[0;34m(\u001b[0m\u001b[0ms\u001b[0m\u001b[0;34m.\u001b[0m\u001b[0mt\u001b[0m\u001b[0;34m,\u001b[0m\u001b[0ms\u001b[0m\u001b[0;34m.\u001b[0m\u001b[0mx\u001b[0m\u001b[0;34m)\u001b[0m\u001b[0;34m\u001b[0m\u001b[0;34m\u001b[0m\u001b[0m\n\u001b[0;32m----> 3\u001b[0;31m \u001b[0mplt\u001b[0m\u001b[0;34m.\u001b[0m\u001b[0mplot\u001b[0m\u001b[0;34m(\u001b[0m\u001b[0mt\u001b[0m\u001b[0;34m,\u001b[0m\u001b[0ms\u001b[0m\u001b[0;34m.\u001b[0m\u001b[0mgetFunction\u001b[0m\u001b[0;34m(\u001b[0m\u001b[0;34m)\u001b[0m\u001b[0;34m[\u001b[0m\u001b[0;36m0\u001b[0m\u001b[0;34m]\u001b[0m\u001b[0;34m(\u001b[0m\u001b[0mt\u001b[0m\u001b[0;34m)\u001b[0m\u001b[0;34m,\u001b[0m\u001b[0;34m'b:'\u001b[0m\u001b[0;34m)\u001b[0m\u001b[0;34m\u001b[0m\u001b[0;34m\u001b[0m\u001b[0m\n\u001b[0m",
      "\u001b[0;32m<ipython-input-5-424df68c867b>\u001b[0m in \u001b[0;36mgetFunction\u001b[0;34m(self)\u001b[0m\n\u001b[1;32m    131\u001b[0m \u001b[0;34m\u001b[0m\u001b[0m\n\u001b[1;32m    132\u001b[0m     \u001b[0;32mdef\u001b[0m \u001b[0mgetFunction\u001b[0m\u001b[0;34m(\u001b[0m\u001b[0mself\u001b[0m\u001b[0;34m)\u001b[0m\u001b[0;34m:\u001b[0m\u001b[0;34m\u001b[0m\u001b[0;34m\u001b[0m\u001b[0m\n\u001b[0;32m--> 133\u001b[0;31m         \u001b[0mxfun\u001b[0m \u001b[0;34m=\u001b[0m \u001b[0minterp1d\u001b[0m\u001b[0;34m(\u001b[0m\u001b[0mself\u001b[0m\u001b[0;34m.\u001b[0m\u001b[0mt\u001b[0m\u001b[0;34m,\u001b[0m\u001b[0mself\u001b[0m\u001b[0;34m.\u001b[0m\u001b[0mx\u001b[0m\u001b[0;34m,\u001b[0m\u001b[0mkind\u001b[0m\u001b[0;34m=\u001b[0m\u001b[0;34m\"cubic\"\u001b[0m\u001b[0;34m)\u001b[0m\u001b[0;34m\u001b[0m\u001b[0;34m\u001b[0m\u001b[0m\n\u001b[0m\u001b[1;32m    134\u001b[0m         \u001b[0myfun\u001b[0m \u001b[0;34m=\u001b[0m \u001b[0minterp1d\u001b[0m\u001b[0;34m(\u001b[0m\u001b[0mself\u001b[0m\u001b[0;34m.\u001b[0m\u001b[0mt\u001b[0m\u001b[0;34m,\u001b[0m\u001b[0mself\u001b[0m\u001b[0;34m.\u001b[0m\u001b[0my\u001b[0m\u001b[0;34m,\u001b[0m\u001b[0mkind\u001b[0m\u001b[0;34m=\u001b[0m\u001b[0;34m\"cubic\"\u001b[0m\u001b[0;34m)\u001b[0m\u001b[0;34m\u001b[0m\u001b[0;34m\u001b[0m\u001b[0m\n\u001b[1;32m    135\u001b[0m         \u001b[0;32mreturn\u001b[0m \u001b[0mxfun\u001b[0m\u001b[0;34m,\u001b[0m\u001b[0myfun\u001b[0m\u001b[0;34m\u001b[0m\u001b[0;34m\u001b[0m\u001b[0m\n",
      "\u001b[0;32m~/opt/anaconda3/lib/python3.8/site-packages/scipy/interpolate/interpolate.py\u001b[0m in \u001b[0;36m__init__\u001b[0;34m(***failed resolving arguments***)\u001b[0m\n\u001b[1;32m    544\u001b[0m                     \u001b[0mrewrite_nan\u001b[0m \u001b[0;34m=\u001b[0m \u001b[0;32mTrue\u001b[0m\u001b[0;34m\u001b[0m\u001b[0;34m\u001b[0m\u001b[0m\n\u001b[1;32m    545\u001b[0m \u001b[0;34m\u001b[0m\u001b[0m\n\u001b[0;32m--> 546\u001b[0;31m             self._spline = make_interp_spline(xx, yy, k=order,\n\u001b[0m\u001b[1;32m    547\u001b[0m                                               check_finite=False)\n\u001b[1;32m    548\u001b[0m             \u001b[0;32mif\u001b[0m \u001b[0mrewrite_nan\u001b[0m\u001b[0;34m:\u001b[0m\u001b[0;34m\u001b[0m\u001b[0;34m\u001b[0m\u001b[0m\n",
      "\u001b[0;32m~/opt/anaconda3/lib/python3.8/site-packages/scipy/interpolate/_bsplines.py\u001b[0m in \u001b[0;36mmake_interp_spline\u001b[0;34m(x, y, k, t, bc_type, axis, check_finite)\u001b[0m\n\u001b[1;32m    814\u001b[0m \u001b[0;34m\u001b[0m\u001b[0m\n\u001b[1;32m    815\u001b[0m     \u001b[0;32mif\u001b[0m \u001b[0mnt\u001b[0m \u001b[0;34m-\u001b[0m \u001b[0mn\u001b[0m \u001b[0;34m!=\u001b[0m \u001b[0mnleft\u001b[0m \u001b[0;34m+\u001b[0m \u001b[0mnright\u001b[0m\u001b[0;34m:\u001b[0m\u001b[0;34m\u001b[0m\u001b[0;34m\u001b[0m\u001b[0m\n\u001b[0;32m--> 816\u001b[0;31m         raise ValueError(\"The number of derivatives at boundaries does not \"\n\u001b[0m\u001b[1;32m    817\u001b[0m                          \"match: expected %s, got %s+%s\" % (nt-n, nleft, nright))\n\u001b[1;32m    818\u001b[0m \u001b[0;34m\u001b[0m\u001b[0m\n",
      "\u001b[0;31mValueError\u001b[0m: The number of derivatives at boundaries does not match: expected 3, got 0+0"
     ]
    }
   ],
   "source": [
    "t = np.linspace(0,20,100)\n",
    "plt.plot(s.t,s.x)\n",
    "plt.plot(t,s.getFunction()[0](t),'b:')"
   ]
  },
  {
   "cell_type": "code",
   "execution_count": 3,
   "id": "73a41df4-70c4-43c0-992d-4900cc17297e",
   "metadata": {},
   "outputs": [],
   "source": [
    "q0 = [1,0]\n",
    "p0 = [0,1.35]\n",
    "dt = 0.77\n",
    "T = 800 #1 revolution ca 84 #800\n",
    "N = 1\n",
    "\n",
    "s = State(q0,p0)\n",
    "t1,x1,y1,h1,l1 = s.evolve(dt,T,True,N,solver=s.symmetricRuthStep)\n",
    "s = State(q0,p0)\n",
    "t2,x2,y2,h2,l2 = s.evolve(dt/4,T,True,4*N,solver=s.symplecticEulerStep)\n",
    "s = State(q0,p0)\n",
    "t3,x3,y3,h3,l3 = s.evolve(dt/1.5,T,True,int(1.5*N),solver=s.RK4Step)\n",
    "s = State(q0,p0)\n",
    "t4,x4,y4,h4,l4 = s.evolve(dt/500,T,True,500*N,solver=s.explicitEulerStep)\n",
    "s = State(q0,p0)\n",
    "t5,x5,y5,h5,l5 = s.evolve(dt/4,T,True,4*N,solver=s.impTrapStep)"
   ]
  },
  {
   "cell_type": "code",
   "execution_count": 14,
   "id": "12a292d6-e980-45b8-9dd7-226b2756761b",
   "metadata": {
    "tags": []
   },
   "outputs": [
    {
     "data": {
      "text/plain": [
       "[<matplotlib.lines.Line2D at 0x7fe26fa55fd0>]"
      ]
     },
     "execution_count": 14,
     "metadata": {},
     "output_type": "execute_result"
    }
   ],
   "source": [
    "\"\"\"fig,ax = plt.subplots(figsize=(8,8))\n",
    "ax.set_aspect(1)\n",
    "plt.plot([0],[0],'ro')\n",
    "plt.plot(x1,y1,'-',label=\"Symmetric Ruth\",color=\"blue\")\n",
    "plt.plot(x2,y2,'-',label=\"Symplectic Euler\",color=\"green\",alpha=0.7)\n",
    "plt.plot(x3,y3,'-',label=\"Runge-Kutta 4\",color=\"purple\",alpha=0.7)\n",
    "plt.plot(x4,y4,'-',label=\"Explicit Euler\",color=\"brown\",alpha=0.7)\n",
    "plt.plot(x5,y5,'-',label=\"implicid Trapezoid\",color=\"slategrey\",alpha=0.7)\n",
    "plt.legend()\n",
    "fig,ax = plt.subplots(figsize=(8,8))\n",
    "ax.set_xlim(0,500)\n",
    "ax.set_xlabel(r\"$t$\")\n",
    "ax.set_ylabel(r\"$\\mathcal{H}$ (line)\")\n",
    "plt.plot(t1,h1,'-',label=\"Symmetric Ruth\",color=\"blue\",lw=0.99)\n",
    "plt.plot(t2,h2,'-',label=\"Symplectic Euler\",color=\"green\",alpha=0.7,lw=0.99)\n",
    "plt.plot(t3,h3,'-',label=\"Runge-Kutta 4\",color=\"purple\",alpha=0.7,lw=0.99)\n",
    "plt.plot(t4,h4,'-',label=\"Explicit Euler\",color=\"brown\",alpha=0.7,lw=0.99)\n",
    "plt.plot(t5,h5,'-',label=\"implizid Trapezoid\",color=\"slategrey\",alpha=0.7,lw=0.99)\n",
    "plt.legend()\n",
    "ax2 = ax.twinx()\n",
    "ax2.set_ylabel(r\"$L$ (dotted)\")\n",
    "plt.plot(t1,l1,':',label=\"Symmetric Ruth\",color=\"blue\",alpha=0.99)\n",
    "plt.plot(t2,l2,':',label=\"Symplectic Euler\",color=\"green\",alpha=0.99)\n",
    "plt.plot(t3,l3,':',label=\"Runge-Kutta 4\",color=\"purple\",alpha=0.99)\n",
    "plt.plot(t4,l4,':',label=\"Explicit Euler\",color=\"brown\",alpha=0.99)\n",
    "plt.plot(t5,l5,':',label=\"implicid Trapezoid\",color=\"slategrey\",alpha=0.99)\n",
    "#plt.legend()\"\"\"\n",
    "\n",
    "fig,ax = plt.subplots(figsize=(8,8))\n",
    "ax.set_aspect(1)\n",
    "plt.plot([0],[0],'ro')\n",
    "plt.plot(x1,y1,'-',label=\"Symmetric Ruth\",color=\"blue\")\n",
    "plt.plot(x2,y2,'-',label=\"Symplectic Euler\",color=\"green\",alpha=0.7)\n",
    "plt.plot(x3,y3,'-',label=\"Runge-Kutta 4\",color=\"purple\",alpha=0.7)\n",
    "plt.plot(x4,y4,'-',label=\"Explicit Euler\",color=\"brown\",alpha=0.7)\n",
    "#plt.plot(x5,y5,'-',label=\"implicit trapezoid\",color=\"slategrey\",alpha=0.7)\n",
    "plt.legend(loc=\"lower left\")\n",
    "fig,ax = plt.subplots(figsize=(8,8))\n",
    "ax.set_xlim(0,500)\n",
    "ax.set_xlabel(r\"$t$\")\n",
    "ax.set_ylabel(r\"$\\mathcal{H}$ (line)\")\n",
    "plt.plot(t1,1e3*abs(h1-h1[0]),'-',label=\"Symmetric Ruth\",color=\"blue\",lw=0.99)\n",
    "plt.plot(t2,1e3*abs(h2-h1[0]),'-',label=\"Symplectic Euler\",color=\"green\",alpha=0.7,lw=0.99)\n",
    "plt.plot(t3,1e3*abs(h3-h1[0]),'-',label=\"Runge-Kutta 4\",color=\"purple\",alpha=0.7,lw=0.99)\n",
    "plt.plot(t4,1e3*abs(h4-h1[0]),'-',label=\"Explicit Euler\",color=\"brown\",alpha=0.7,lw=0.99)\n",
    "#plt.plot(t5,1e3*abs(h5-h1[0]),'-',label=\"implizit trapezoid\",color=\"slategrey\",alpha=0.7,lw=0.99)\n",
    "plt.legend()\n",
    "ax2 = ax.twinx()\n",
    "ax2.set_ylabel(r\"$L$ (dotted)\")\n",
    "plt.plot(t1,1e3*abs(l1-l1[0]),':',label=\"Symmetric Ruth\",color=\"blue\",alpha=0.99)\n",
    "plt.plot(t2,1e3*abs(l2-l1[0]),':',label=\"Symplectic Euler\",color=\"green\",alpha=0.99)\n",
    "plt.plot(t3,1e3*abs(l3-l1[0]),':',label=\"Runge-Kutta 4\",color=\"purple\",alpha=0.99)\n",
    "plt.plot(t4,1e3*abs(l4-l1[0]),':',label=\"Explicit Euler\",color=\"brown\",alpha=0.99)\n",
    "#plt.plot(t5,1e3*abs(l5-l1[0]),':',label=\"implicit trapezoid\",color=\"slategrey\",alpha=0.99)\n",
    "#plt.legend()"
   ]
  },
  {
   "cell_type": "code",
   "execution_count": 5,
   "id": "080dcfa4-5b00-40f9-be57-5a2e9a7ff35e",
   "metadata": {},
   "outputs": [],
   "source": [
    "q0 = [1,0]\n",
    "p0 = [0,1]\n",
    "dt = 1\n",
    "T = 200 #1 revolution 2pi\n",
    "N = 1\n",
    "\n",
    "s = State(q0,p0)\n",
    "t1,x1,y1,h1,l1 = s.evolve(dt,T,True,N,solver=s.symmetricRuthStep)\n",
    "s = State(q0,p0)\n",
    "t2,x2,y2,h2,l2 = s.evolve(dt/32,T,True,32*N,solver=s.symplecticEulerStep)\n",
    "s = State(q0,p0)\n",
    "t3,x3,y3,h3,l3 = s.evolve(dt/6,T,True,8*N,solver=s.RK4Step)\n",
    "#s = State(q0,p0)\n",
    "#t4,x4,y4,h4,l4 = s.evolve(dt/2000,T,True,2000*N,solver=s.explicitEulerStep)\n",
    "s = State(q0,p0)\n",
    "t5,x5,y5,h5,l5 = s.evolve(dt/4,T,True,4*N,solver=s.impTrapStep)"
   ]
  },
  {
   "cell_type": "code",
   "execution_count": 13,
   "id": "1279a393-fe8a-4d74-a9b1-3254e5a8441f",
   "metadata": {},
   "outputs": [
    {
     "data": {
      "text/plain": [
       "[<matplotlib.lines.Line2D at 0x7fe26ca582e0>]"
      ]
     },
     "execution_count": 13,
     "metadata": {},
     "output_type": "execute_result"
    }
   ],
   "source": [
    "\"\"\"fig,ax = plt.subplots(figsize=(8,8))\n",
    "ax.set_aspect(1)\n",
    "plt.plot([0],[0],'ro')\n",
    "plt.plot(x1,y1,'-',label=\"Symmetric Ruth\",color=\"blue\")\n",
    "plt.plot(x2,y2,'-',label=\"Symplectic Euler\",color=\"green\",alpha=0.7)\n",
    "plt.plot(x3,y3,'-',label=\"Runge-Kutta 4\",color=\"purple\",alpha=0.7)\n",
    "#plt.plot(x4,y4,'-',label=\"Explicit Euler\",color=\"brown\",alpha=0.7)\n",
    "plt.legend()\n",
    "fig,ax = plt.subplots(figsize=(8,8))\n",
    "#ax.set_xlim(0,500)\n",
    "ax.set_xlabel(r\"$t$\")\n",
    "ax.set_ylabel(r\"$\\mathcal{H}$ (line)\")\n",
    "plt.plot(t1,h1,'-',label=\"Symmetric Ruth\",color=\"blue\",lw=0.99)\n",
    "plt.plot(t2,h2,'-',label=\"Symplectic Euler\",color=\"green\",alpha=0.7,lw=0.99)\n",
    "plt.plot(t3,h3,'-',label=\"Runge-Kutta 4\",color=\"purple\",alpha=0.7,lw=0.99)\n",
    "#plt.plot(t4,h4,'-',label=\"Explicit Euler\",color=\"brown\",alpha=0.7,lw=0.99)\n",
    "plt.legend()\n",
    "ax2 = ax.twinx()\n",
    "ax2.set_ylabel(r\"$L$ (dotted)\")\n",
    "plt.plot(0.5*(t1[1:]+t1[:-1]),l1[1:],':',label=\"Symmetric Ruth\",color=\"blue\",alpha=0.99)\n",
    "plt.plot(t2,l2,':',label=\"Symplectic Euler\",color=\"green\",alpha=0.99)\n",
    "plt.plot(t3,l3,':',label=\"Runge-Kutta 4\",color=\"purple\",alpha=0.99)\n",
    "#plt.plot(t4,l4,':',label=\"Explicit Euler\",color=\"brown\",alpha=0.99)\n",
    "#plt.legend()\"\"\"\n",
    "\n",
    "fig,ax = plt.subplots(figsize=(8,8))\n",
    "ax.set_aspect(1)\n",
    "plt.plot([0],[0],'ro')\n",
    "plt.plot(x1,y1,'-',label=\"Symmetric Ruth\",color=\"blue\")\n",
    "plt.plot(x2,y2,'-',label=\"Symplectic Euler\",color=\"green\",alpha=0.7)\n",
    "plt.plot(x3,y3,'-',label=\"Runge-Kutta 4\",color=\"purple\",alpha=0.7)\n",
    "#plt.plot(x4,y4,'-',label=\"Explicit Euler\",color=\"brown\",alpha=0.7)\n",
    "plt.plot(x5,y5,'-',label=\"Implicid Trapezoid\",color=\"slategrey\",alpha=0.7)\n",
    "plt.legend()\n",
    "fig,ax = plt.subplots(figsize=(8,8))\n",
    "#ax.set_xlim(0,500)\n",
    "ax.set_xlabel(r\"$t$\")\n",
    "ax.set_ylabel(r\"relative error $\\mathcal{H}$ (line)\")\n",
    "plt.plot(t1,-1e0*abs(h1-h1[0])/h1[0],'-',label=\"Symmetric Ruth\",color=\"blue\",lw=0.99)\n",
    "plt.plot(t2,-1e0*abs(h2-h1[0])/h1[0],'-',label=\"Symplectic Euler\",color=\"green\",alpha=0.7,lw=0.99)\n",
    "plt.plot(t3,-1e0*abs(h3-h1[0])/h1[0],'-',label=\"Runge-Kutta 4\",color=\"purple\",alpha=0.7,lw=0.99)\n",
    "#plt.plot(t4,-1e0*abs(h4-h1[0])/h1[0],'-',label=\"Explicit Euler\",color=\"brown\",alpha=0.7,lw=0.99)\n",
    "plt.plot(t5,-1e0*abs(h5-h1[0])/h1[0],'-',label=\"Implicid Trapezoid\",color=\"slategrey\",alpha=0.7,lw=0.99)\n",
    "plt.legend()\n",
    "ax2 = ax.twinx()\n",
    "ax2.set_ylabel(r\"relative error $L$ [$10^{-3}$] (dotted)\")\n",
    "plt.plot(t1,-1e3*abs(l1-l1[0])/l1[0],':',label=\"Symmetric Ruth\",color=\"blue\",alpha=0.99)\n",
    "plt.plot(t2,-1e3*abs(l2-l1[0])/l1[0],':',label=\"Symplectic Euler\",color=\"green\",alpha=0.99)\n",
    "plt.plot(t3,-1e3*abs(l3-l1[0])/l1[0],':',label=\"Runge-Kutta 4\",color=\"purple\",alpha=0.99)\n",
    "#plt.plot(t4,-1e3*abs(l4-l1[0])/l1[0],':',label=\"Explicit Euler\",color=\"brown\",alpha=0.99)\n",
    "plt.plot(t5,-1e3*abs(l5-l1[0])/l1[0],':',label=\"Implicid Trapezoid\",color=\"slategrey\",alpha=0.99)\n",
    "#plt.legend()"
   ]
  },
  {
   "cell_type": "code",
   "execution_count": null,
   "id": "6b765980-6423-43e6-b353-8dbef3d247f4",
   "metadata": {},
   "outputs": [],
   "source": []
  },
  {
   "cell_type": "code",
   "execution_count": null,
   "id": "1685c7c6-a67a-40d9-972a-fe9bb3b6748c",
   "metadata": {},
   "outputs": [],
   "source": []
  },
  {
   "cell_type": "code",
   "execution_count": null,
   "id": "a20e3b41-f913-47c5-bea1-0a743d35dbd9",
   "metadata": {},
   "outputs": [],
   "source": []
  },
  {
   "cell_type": "code",
   "execution_count": 488,
   "id": "e62576da-b477-4925-92b3-ca850159e86b",
   "metadata": {},
   "outputs": [
    {
     "name": "stdout",
     "output_type": "stream",
     "text": [
      "Function needed 1.84ms + (1.03ms +- 217.75us), ran 1+3860 times in  4 seconds\n",
      "Function needed 2.15ms + (2.87ms +- 658.21us), ran 1+1391 times in  4 seconds\n",
      "Function needed 1.35ms + (1.49ms +- 268.13us), ran 1+2676 times in  4 seconds\n",
      "Function needed 29.48ms + (22.87ms +- 2.61ms), ran 1+174 times in  4 seconds\n"
     ]
    },
    {
     "data": {
      "text/plain": [
       "0.022870891395656543"
      ]
     },
     "execution_count": 488,
     "metadata": {},
     "output_type": "execute_result"
    }
   ],
   "source": [
    "s = State(q0,p0)\n",
    "benchmark(s.evolve,4,arguments=[0.8,T,True,N,s.symmetricRuthStep])\n",
    "s = State(q0,p0)\n",
    "benchmark(s.evolve,4,arguments=[0.2,T,True,N,s.symplecticEulerStep])\n",
    "s = State(q0,p0)\n",
    "benchmark(s.evolve,4,arguments=[0.5,T,True,N,s.RK4Step])\n",
    "s = State(q0,p0)\n",
    "benchmark(s.evolve,4,arguments=[0.0025,T,True,200,s.explicitEulerStep])"
   ]
  },
  {
   "cell_type": "code",
   "execution_count": null,
   "id": "441121f1-5215-4de1-9305-704a68ae1c97",
   "metadata": {},
   "outputs": [],
   "source": []
  },
  {
   "cell_type": "markdown",
   "id": "a90a681b-23ce-43ed-95f5-d3e7ef04a213",
   "metadata": {},
   "source": [
    "Benchmark error"
   ]
  },
  {
   "cell_type": "code",
   "execution_count": 4,
   "id": "4ed75a6e-8fdf-4231-9d4a-7cdafef9675f",
   "metadata": {},
   "outputs": [
    {
     "name": "stderr",
     "output_type": "stream",
     "text": [
      "<ipython-input-4-9a84a5e3bc8d>:14: RuntimeWarning: divide by zero encountered in log\n",
      "  x,y = -np.log(DT),0.5*np.log(err)\n"
     ]
    },
    {
     "name": "stdout",
     "output_type": "stream",
     "text": [
      "explicit Euler: -0.5123270638787457 1.5108155681020954\n",
      "symplectic Euler: -1.2099013630903486 0.883183311710525\n",
      "RK4: -4.591878599691542 -0.7264392008174582\n",
      "symmetric Ruth: -3.9212421669625854 -3.0533511472934523\n",
      "implicit trap: -1.9851979859789468 -1.2131551064606185\n"
     ]
    }
   ],
   "source": [
    "def f(x,p,q):\n",
    "    return p*x**q\n",
    "\n",
    "T = 2*np.pi\n",
    "q0 = [1,0]\n",
    "p0 = [0,1]\n",
    "DT = np.arange(0,1,0.05)[1:]\n",
    "err = np.zeros(len(DT))\n",
    "for i,dt in enumerate(DT):\n",
    "    s = State(q0,p0)\n",
    "    t,x,y,_,_ = s.evolve(dt,T,True,False,s.explicitEulerStep)\n",
    "    x0,y0 = np.cos(t),np.sin(t)\n",
    "    err[i] = ((x-x0)**2+(y-y0)**2).mean()\n",
    "    x,y = -np.log(DT),0.5*np.log(err)\n",
    "    a,b = np.polyfit(x,y,1)\n",
    "#plt.plot(x,a*x+b,'k:')\n",
    "plt.plot(x,y,marker=\".\",ms=5,lw=0.5,label=\"explicit Euler\")\n",
    "print(\"explicit Euler:\",a,b)\n",
    "for i,dt in enumerate(DT):\n",
    "    s = State(q0,p0)\n",
    "    t,x,y,_,_ = s.evolve(dt,T,True,False,s.symplecticEulerStep)\n",
    "    x0,y0 = np.cos(t),np.sin(t)\n",
    "    err[i] = ((x-x0)**2+(y-y0)**2).mean()\n",
    "    x,y = -np.log(DT),0.5*np.log(err)\n",
    "    a,b = np.polyfit(x,y,1)\n",
    "#plt.plot(x,a*x+b,'k:')\n",
    "plt.plot(x,y,marker=\"*\",ms=5,lw=0.5,label=\"symplectic Euler\")\n",
    "print(\"symplectic Euler:\",a,b)\n",
    "for i,dt in enumerate(DT):\n",
    "    s = State(q0,p0)\n",
    "    t,x,y,_,_ = s.evolve(dt,T,True,False,s.RK4Step)\n",
    "    x0,y0 = np.cos(t),np.sin(t)\n",
    "    err[i] = ((x-x0)**2+(y-y0)**2).mean()\n",
    "    x,y = -np.log(DT),0.5*np.log(err)\n",
    "    a,b = np.polyfit(x,y,1)\n",
    "#plt.plot(x,a*x+b,'k:')\n",
    "plt.plot(x,y,marker=\"s\",ms=5,lw=0.5,label=\"Runge-Kutta 4\")\n",
    "print(\"RK4:\",a,b)\n",
    "for i,dt in enumerate(DT):\n",
    "    s = State(q0,p0)\n",
    "    t,x,y,_,_ = s.evolve(dt,T,True,False,s.symmetricRuthStep)\n",
    "    x0,y0 = np.cos(t),np.sin(t)\n",
    "    err[i] = ((x-x0)**2+(y-y0)**2).mean()\n",
    "    x,y = -np.log(DT),0.5*np.log(err)\n",
    "    a,b = np.polyfit(x,y,1)\n",
    "#plt.plot(x,a*x+b,'k:')\n",
    "plt.plot(x,y,marker=\"d\",ms=5,lw=0.5,label=\"symmetric Ruth\")\n",
    "print(\"symmetric Ruth:\",a,b)\n",
    "for i,dt in enumerate(DT):\n",
    "    s = State(q0,p0)\n",
    "    t,x,y,_,_ = s.evolve(dt,T,True,False,s.impTrapStep)\n",
    "    x0,y0 = np.cos(t),np.sin(t)\n",
    "    err[i] = ((x-x0)**2+(y-y0)**2).mean()\n",
    "    x,y = -np.log(DT),0.5*np.log(err)\n",
    "    a,b = np.polyfit(x,y,1)\n",
    "#plt.plot(x,a*x+b,'k:')\n",
    "plt.plot(x,y,marker=\"^\",ms=5,lw=0.5,label=\"implicit trapezoid\")#,color=\"slategrey\")\n",
    "print(\"implicit trap:\",a,b)\n",
    "\n",
    "plt.xlabel(r\"$-\\log{(h)}$\")\n",
    "plt.ylabel(r\"$\\log{(\\varepsilon})$\")\n",
    "plt.legend()\n",
    "plt.show()"
   ]
  },
  {
   "cell_type": "markdown",
   "id": "ac3658dc-01ea-495a-a911-7b92f81f4072",
   "metadata": {},
   "source": [
    "Benchmark runtime"
   ]
  },
  {
   "cell_type": "code",
   "execution_count": 5,
   "id": "8d78ac5c-1d7a-4615-9610-9f51d5fa451a",
   "metadata": {},
   "outputs": [
    {
     "name": "stderr",
     "output_type": "stream",
     "text": [
      "/Users/justin/opt/anaconda3/lib/python3.8/site-packages/scipy/optimize/minpack.py:175: RuntimeWarning: The iteration is not making good progress, as measured by the \n",
      "  improvement from the last ten iterations.\n",
      "  warnings.warn(msg, RuntimeWarning)\n"
     ]
    }
   ],
   "source": [
    "T = 2*np.pi\n",
    "q0 = [1,0]\n",
    "p0 = [0,1]\n",
    "DT = np.arange(0,1,0.05)[1:]\n",
    "tau = np.zeros(len(DT))\n",
    "runtime = 0.25\n",
    "for i,dt in enumerate(DT):\n",
    "    s = State(q0,p0)\n",
    "    tau[i] = benchmark(s.evolve,runtime,arguments=[dt,T,True,1,s.explicitEulerStep],message=False)\n",
    "plt.plot(-np.log(DT),np.log(tau),marker=\".\",ms=5,lw=0.5,label=\"explicit Euler\")\n",
    "for i,dt in enumerate(DT):\n",
    "    s = State(q0,p0)\n",
    "    tau[i] = benchmark(s.evolve,runtime,arguments=[dt,T,True,1,s.symplecticEulerStep],message=False)\n",
    "plt.plot(-np.log(DT),np.log(tau),marker=\"*\",ms=5,lw=0.5,label=\"symplectic Euler\")\n",
    "for i,dt in enumerate(DT):\n",
    "    s = State(q0,p0)\n",
    "    tau[i] = benchmark(s.evolve,runtime,arguments=[dt,T,True,1,s.RK4Step],message=False)\n",
    "plt.plot(-np.log(DT),np.log(tau),marker=\"s\",ms=5,lw=0.5,label=\"Runge-Kutta 4\")\n",
    "for i,dt in enumerate(DT):\n",
    "    s = State(q0,p0)\n",
    "    tau[i] = benchmark(s.evolve,runtime,arguments=[dt,T,True,1,s.symmetricRuthStep],message=False)\n",
    "plt.plot(-np.log(DT),np.log(tau),marker=\"d\",ms=5,lw=0.5,label=\"symmetric Ruth\")\n",
    "for i,dt in enumerate(DT):\n",
    "    s = State(q0,p0)\n",
    "    tau[i] = benchmark(s.evolve,runtime,arguments=[dt,T,True,1,s.impTrapStep],message=False)\n",
    "plt.plot(-np.log(DT),np.log(tau),marker=\"^\",ms=5,lw=0.5,label=\"implicit trapezoid\")#,color=\"slategrey\")\n",
    "\n",
    "plt.xlabel(r\"$-\\log{(h)}$\")\n",
    "plt.ylabel(r\"$\\log{(\\tau})$\")\n",
    "plt.legend()\n",
    "plt.show()"
   ]
  },
  {
   "cell_type": "code",
   "execution_count": null,
   "id": "21d475da-85e2-4688-897b-8246bcea5bc4",
   "metadata": {},
   "outputs": [],
   "source": []
  },
  {
   "cell_type": "code",
   "execution_count": 508,
   "id": "30e193a6-2016-4c18-981f-7dea437deede",
   "metadata": {},
   "outputs": [
    {
     "name": "stdout",
     "output_type": "stream",
     "text": [
      "Function needed 10.66ms + (8.44ms +- 1.12ms), ran 1+117 times in  1 seconds\n",
      "Function needed 17.54ms + (15.15ms +- 2.67ms), ran 1+65 times in  1 seconds\n"
     ]
    },
    {
     "data": {
      "text/plain": [
       "1.7948066737889021"
      ]
     },
     "execution_count": 508,
     "metadata": {},
     "output_type": "execute_result"
    }
   ],
   "source": [
    "s = State(q0,p0)\n",
    "tau1 = benchmark(s.evolve,1,arguments=[0.05,T,True,False,s.explicitEulerStep],message=True)\n",
    "s = State(q0,p0)\n",
    "tau2 = benchmark(s.evolve,1,arguments=[0.05,T,True,False,s.symmetricRuthStep],message=True)\n",
    "tau2/tau1"
   ]
  },
  {
   "cell_type": "code",
   "execution_count": 495,
   "id": "cac547a6-a7a6-4c98-a4ef-00efbf76a1ea",
   "metadata": {},
   "outputs": [
    {
     "name": "stdout",
     "output_type": "stream",
     "text": [
      "Function needed 1.99ms + (970.36us +- 419.23us), ran 1+1025 times in  1 seconds\n"
     ]
    },
    {
     "data": {
      "text/plain": [
       "0.0009703564062351134"
      ]
     },
     "execution_count": 495,
     "metadata": {},
     "output_type": "execute_result"
    }
   ],
   "source": [
    "s = State(q0,p0)\n",
    "benchmark(s.evolve,1,arguments=[0.8,T,True,1,s.symmetricRuthStep])"
   ]
  },
  {
   "cell_type": "code",
   "execution_count": null,
   "id": "c432f97c-90e0-4777-bdcd-c6c025aa2462",
   "metadata": {},
   "outputs": [],
   "source": []
  },
  {
   "cell_type": "code",
   "execution_count": null,
   "id": "74d0e98a-e5e5-46d9-8cd5-da193cf76f53",
   "metadata": {},
   "outputs": [],
   "source": []
  },
  {
   "cell_type": "code",
   "execution_count": null,
   "id": "c593c189-e80e-4cfb-a7cd-2f4eed0744cf",
   "metadata": {},
   "outputs": [],
   "source": []
  },
  {
   "cell_type": "code",
   "execution_count": 139,
   "id": "e8decd8c-81af-48ed-928a-fe1bbd95b908",
   "metadata": {},
   "outputs": [
    {
     "data": {
      "text/plain": [
       "[<matplotlib.lines.Line2D at 0x7faeff998fa0>]"
      ]
     },
     "execution_count": 139,
     "metadata": {},
     "output_type": "execute_result"
    }
   ],
   "source": [
    "q0 = [-2,-1]\n",
    "p0 = [1,1]\n",
    "s = State(q0,p0)\n",
    "s.evolve(0.1,1*np.pi)\n",
    "plt.figure()\n",
    "plt.plot(s.t,s.x,label=\"x\")\n",
    "plt.plot(s.t,s.y,label=\"y\")\n",
    "plt.plot(s.t,s.px,label=\"px\")\n",
    "plt.plot(s.t,s.py,label=\"py\")\n",
    "plt.legend()\n",
    "plt.figure()\n",
    "d = np.sqrt(s.x**2+s.y**2)\n",
    "plt.plot(s.t,s.px**2+s.py**2-2/d)\n",
    "plt.plot(s.t,s.x*s.py-s.y*s.px)\n",
    "plt.figure()\n",
    "plt.plot(s.x,s.y)\n",
    "#plt.figure()"
   ]
  },
  {
   "cell_type": "code",
   "execution_count": 140,
   "id": "e49f3956-4822-4d24-99d0-2d4b3c64d247",
   "metadata": {},
   "outputs": [],
   "source": [
    "r = np.sqrt(s.x**2+s.y**2)\n",
    "phi = np.arctan2(s.y,s.x)\n",
    "L = q0[0]*p0[1]-q0[1]*p0[0]\n",
    "E = 0.5*(p0[0]**2+p0[1]**2)-1/np.sqrt(q0[0]**2+q0[1]**2)\n",
    "p,e = L**2,np.sqrt(1+2*E*L**2)"
   ]
  },
  {
   "cell_type": "code",
   "execution_count": 141,
   "id": "fde13aaf-dcd5-4db0-acea-b893d0f3b8fa",
   "metadata": {},
   "outputs": [
    {
     "data": {
      "text/plain": [
       "[<matplotlib.lines.Line2D at 0x7faf0131e2e0>]"
      ]
     },
     "execution_count": 141,
     "metadata": {},
     "output_type": "execute_result"
    }
   ],
   "source": [
    "plt.plot(r)\n",
    "plt.plot(phi)"
   ]
  },
  {
   "cell_type": "code",
   "execution_count": 142,
   "id": "20b880c5-cc5b-45e6-81ca-50b524504c3b",
   "metadata": {},
   "outputs": [],
   "source": [
    "def rfunc(phi,alpha):\n",
    "    return p/(1+e*np.cos(phi-alpha))"
   ]
  },
  {
   "cell_type": "code",
   "execution_count": 143,
   "id": "a9ed338d-fc89-478e-9822-f11be303ec23",
   "metadata": {},
   "outputs": [],
   "source": [
    "from scipy.optimize import curve_fit"
   ]
  },
  {
   "cell_type": "code",
   "execution_count": 144,
   "id": "e7b3203a-ae85-4fec-b9ae-9aed294aa520",
   "metadata": {},
   "outputs": [
    {
     "data": {
      "text/plain": [
       "(1, 1.451059202444919, 0.11510318212527411)"
      ]
     },
     "execution_count": 144,
     "metadata": {},
     "output_type": "execute_result"
    }
   ],
   "source": [
    "[alpha],_ = curve_fit(rfunc,phi,r,p0=[0])\n",
    "p,e,alpha"
   ]
  },
  {
   "cell_type": "code",
   "execution_count": 145,
   "id": "f6cc9c68-36fb-4373-a69c-b3704dc9d740",
   "metadata": {},
   "outputs": [
    {
     "data": {
      "text/plain": [
       "2.032330999270917"
      ]
     },
     "execution_count": 145,
     "metadata": {},
     "output_type": "execute_result"
    }
   ],
   "source": [
    "relErr = np.abs(rfunc(phi,alpha)/r-1)\n",
    "plt.plot(relErr)\n",
    "np.mean(relErr)"
   ]
  },
  {
   "cell_type": "code",
   "execution_count": 146,
   "id": "8f037237-8eee-4cb5-b381-f04e3155aa1e",
   "metadata": {},
   "outputs": [
    {
     "data": {
      "text/plain": [
       "[<matplotlib.lines.Line2D at 0x7faf064357c0>]"
      ]
     },
     "execution_count": 146,
     "metadata": {},
     "output_type": "execute_result"
    }
   ],
   "source": [
    "plt.plot(rfunc(phi,alpha))\n",
    "plt.plot(r)"
   ]
  },
  {
   "cell_type": "code",
   "execution_count": null,
   "id": "e59aac0b-e0c5-4f9b-95c3-99dacaef568d",
   "metadata": {},
   "outputs": [],
   "source": []
  }
 ],
 "metadata": {
  "kernelspec": {
   "display_name": "Python 3",
   "language": "python",
   "name": "python3"
  },
  "language_info": {
   "codemirror_mode": {
    "name": "ipython",
    "version": 3
   },
   "file_extension": ".py",
   "mimetype": "text/x-python",
   "name": "python",
   "nbconvert_exporter": "python",
   "pygments_lexer": "ipython3",
   "version": "3.8.8"
  }
 },
 "nbformat": 4,
 "nbformat_minor": 5
}
