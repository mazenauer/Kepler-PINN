{
 "cells": [
  {
   "cell_type": "markdown",
   "id": "77bee8ab-3415-40d4-9717-e8e434e09c56",
   "metadata": {},
   "source": [
    "Import classes and functions from twoBodyPINN.py and odeintegrator.py"
   ]
  },
  {
   "cell_type": "markdown",
   "id": "72e51d33-32f8-4125-9eb0-477eec025d17",
   "metadata": {},
   "source": [
    "Classes are NeuralNet and State. Functions are showProgress, showProgress2, trainNetwork, and showTrainingResult"
   ]
  },
  {
   "cell_type": "code",
   "execution_count": 1,
   "id": "5ffd1ec8-c36c-4e92-a3dd-1ec212a48d44",
   "metadata": {},
   "outputs": [
    {
     "name": "stdout",
     "output_type": "stream",
     "text": [
      "Running on CPU\n",
      "\n"
     ]
    }
   ],
   "source": [
    "from twoBodyPINN import *\n",
    "#import seaborn as sns\n",
    "#sns.set()\n",
    "%matplotlib qt5"
   ]
  },
  {
   "cell_type": "markdown",
   "id": "27b6201f-126a-490a-9c94-3f8291eb9268",
   "metadata": {},
   "source": [
    "1) Circular orbit (eccentricity $=0$)"
   ]
  },
  {
   "cell_type": "code",
   "execution_count": 2,
   "id": "a4859d5e-02c9-446d-9cf4-d46f6d087489",
   "metadata": {},
   "outputs": [],
   "source": [
    "#Using keyword arguments\n",
    "an,nn,totalLoss,s,t_plot = showProgress(Tmax=4*np.pi,timesteps=61,initial=[1.,0,0,1],\n",
    "                                        depth=2,width=32,lr=1,weights=[10,1,10,0.5,0])"
   ]
  },
  {
   "cell_type": "code",
   "execution_count": 3,
   "id": "57ff13db-af83-4fba-9564-bf9d5bf140a8",
   "metadata": {},
   "outputs": [],
   "source": [
    "#show training in real space\n",
    "an,nn,totalLoss,s,t_plot = showProgress2(Tmax=4*np.pi,timesteps=61,initial=[1.,0,0,1],\n",
    "                                        depth=2,width=16,lr=1,weights=[10,1,10,0.1,0])"
   ]
  },
  {
   "cell_type": "code",
   "execution_count": 4,
   "id": "710a298e-4cba-4273-a7a5-0a5b55b8dc5b",
   "metadata": {},
   "outputs": [],
   "source": [
    "#Using dictionary input\n",
    "args = {\"Tmax\":4*np.pi,\n",
    "     \"timesteps\":61,\n",
    "     \"initial\":[1.,0.,0,1],\n",
    "     \"depth\":2,\n",
    "     \"width\":32,\n",
    "     \"lr\":1,\n",
    "     \"weights\":[10,1,10,0.01,0]}\n",
    "\n",
    "an,nn,totalLoss,s,t_plot = showProgress(**args)"
   ]
  },
  {
   "cell_type": "code",
   "execution_count": 3,
   "id": "eb1223eb-d6e8-4368-b503-e60b6154307d",
   "metadata": {},
   "outputs": [],
   "source": [
    "#show training progress\n",
    "showTrainingResult(nn,t_plot,totalLoss,s)"
   ]
  },
  {
   "cell_type": "markdown",
   "id": "c877042a-659a-4b22-b22a-4b5b9c2c222a",
   "metadata": {},
   "source": [
    "2) Eccentric elliptical orbit (eccentricity $\\approx 0.5$)"
   ]
  },
  {
   "cell_type": "code",
   "execution_count": 11,
   "id": "c880d857-c560-4a65-b818-35724b541208",
   "metadata": {},
   "outputs": [],
   "source": [
    "args = {\"Tmax\":8*np.pi,\n",
    "     \"timesteps\":102,\n",
    "     \"initial\":[1.,0.,0,1.2],\n",
    "     \"depth\":2,\n",
    "     \"width\":32,\n",
    "     \"lr\":0.5,\n",
    "     \"weights\":[10,1,10,0.1,0]}\n",
    "\n",
    "an,nn,totalLoss,s,t_plot = showProgress2(**args)"
   ]
  },
  {
   "cell_type": "code",
   "execution_count": 12,
   "id": "7e6a990c-764a-441d-9f44-7d111d410b0e",
   "metadata": {},
   "outputs": [],
   "source": [
    "showTrainingResult(nn,t_plot,totalLoss,s)"
   ]
  },
  {
   "cell_type": "markdown",
   "id": "b57c9e39-41a2-4f19-8cc8-5b726dc93879",
   "metadata": {},
   "source": [
    "3) Eccentric elliptical orbit (eccentricity $\\approx 0.82$) \n",
    "\n",
    "still need to find good parameters"
   ]
  },
  {
   "cell_type": "code",
   "execution_count": 19,
   "id": "448b6d15-ef68-4251-ba78-e2434d5119e8",
   "metadata": {},
   "outputs": [],
   "source": [
    "args = {\"Tmax\":32*np.pi,\n",
    "     \"timesteps\":281,\n",
    "     \"initial\":[1.,0.,0,1.35],\n",
    "     \"depth\":4,\n",
    "     \"width\":62,\n",
    "     \"lr\":0.125,\n",
    "     \"weights\":[30,1,5,0.1,0]}\n",
    "\n",
    "an,nn,totalLoss,s,t_plot = showProgress(**args)"
   ]
  },
  {
   "cell_type": "code",
   "execution_count": 17,
   "id": "266aaf40-bcdd-4edf-8e2b-666f5a2e614f",
   "metadata": {},
   "outputs": [],
   "source": [
    "showTrainingResult(nn,t_plot,totalLoss,s)"
   ]
  },
  {
   "cell_type": "markdown",
   "id": "7470549c-9472-4029-a7d8-d2c7043a4652",
   "metadata": {},
   "source": [
    "Without showing real time progress"
   ]
  },
  {
   "cell_type": "code",
   "execution_count": 2,
   "id": "3d915888-1c9f-4555-874c-d2dae04b7628",
   "metadata": {},
   "outputs": [],
   "source": [
    "args = {\"Tmax\":6*np.pi,\n",
    "     \"timesteps\":514,\n",
    "     \"initial\":[2.,0.5,0,0.5],\n",
    "     \"depth\":10,\n",
    "     \"width\":43,\n",
    "     \"lr\":0.23,\n",
    "     \"weights\":[10.27,0.54,10.90,0.00045,0],\n",
    "     \"epochs\":10000}\n",
    "\n",
    "nn,totalLoss,s,t_plot,flag,validationLoss = trainNetwork(**args)\n",
    "showTrainingResult(nn,t_plot,totalLoss,s,validationLoss)"
   ]
  },
  {
   "cell_type": "markdown",
   "id": "cc3cf298-ec0e-47b8-837c-63258b3220cd",
   "metadata": {},
   "source": [
    "Radial motion"
   ]
  },
  {
   "cell_type": "code",
   "execution_count": 88,
   "id": "d96ed4a9-ffce-4f30-983b-4d99e2804e45",
   "metadata": {},
   "outputs": [],
   "source": [
    "args = {\"Tmax\":6*np.pi,\n",
    "     \"timesteps\":102,\n",
    "     \"initial\":[1.,1.25,0,0],\n",
    "     \"depth\":2,\n",
    "     \"width\":32,\n",
    "     \"lr\":0.5,\n",
    "     \"weights\":[10,1,10,0.,0],\n",
    "     \"epochs\":2000}\n",
    "\n",
    "nn,totalLoss,s,t_plot,flag,validationLoss = trainNetwork(**args)\n",
    "showTrainingResult(nn,t_plot,totalLoss,s,validationLoss)"
   ]
  },
  {
   "cell_type": "markdown",
   "id": "98b93861-2053-41c3-8f43-981bc0db9e1d",
   "metadata": {},
   "source": [
    "Hyperbolic orbit"
   ]
  },
  {
   "cell_type": "code",
   "execution_count": 81,
   "id": "663fafd9-fc26-4648-858c-b2ec71bb1b78",
   "metadata": {},
   "outputs": [],
   "source": [
    "args = {\"Tmax\":1*np.pi,\n",
    "     \"timesteps\":101,\n",
    "     \"initial\":[-2.,1,-1,1],\n",
    "     \"depth\":2,\n",
    "     \"width\":32,\n",
    "     \"lr\":0.5,\n",
    "     \"weights\":[10,1,10,0.,0],\n",
    "     \"epochs\":2000}\n",
    "\n",
    "nn,totalLoss,s,t_plot,flag,validationLoss = trainNetwork(**args)\n",
    "showTrainingResult(nn,t_plot,totalLoss,s,validationLoss)"
   ]
  },
  {
   "cell_type": "code",
   "execution_count": null,
   "id": "8a8f5c8e-dbcc-4b23-828b-fa5caa6018d6",
   "metadata": {},
   "outputs": [],
   "source": []
  },
  {
   "cell_type": "code",
   "execution_count": null,
   "id": "8ab32fb9-582f-4fb0-9e7c-89308e06a663",
   "metadata": {},
   "outputs": [],
   "source": []
  },
  {
   "cell_type": "code",
   "execution_count": 15,
   "id": "23028029-ecda-4f19-ac57-84c95b6297a2",
   "metadata": {},
   "outputs": [
    {
     "name": "stdout",
     "output_type": "stream",
     "text": [
      "1.018719203650619 0.00810745513485646 -0.9328714579903249\n",
      "0.045711502\n"
     ]
    },
    {
     "data": {
      "text/plain": [
       "[<matplotlib.lines.Line2D at 0x7f98ac43b880>]"
      ]
     },
     "execution_count": 15,
     "metadata": {},
     "output_type": "execute_result"
    }
   ],
   "source": [
    "from scipy.optimize import curve_fit\n",
    "\n",
    "sol = nn(t_plot).detach().numpy()\n",
    "x,px,y,py = sol[:,0],sol[:,1],sol[:,2],sol[:,3]\n",
    "r = np.sqrt(x**2+y**2)\n",
    "phi = np.arctan2(y,x)\n",
    "L = x[0]*py[0]-y[0]*px[0]\n",
    "E = 0.5*(px[0]**2+py[0]**2)-1/np.sqrt(x[0]**2+y[0]**2)\n",
    "p,e = L**2,np.sqrt(1+2*E*L**2)\n",
    "\n",
    "def rfunc(phi,alpha):\n",
    "    return p/(1+e*np.cos(phi-alpha))\n",
    "\n",
    "[alpha],_ = curve_fit(rfunc,phi,r,p0=[0])\n",
    "print(p,e,alpha)\n",
    "\n",
    "relErr = np.abs(rfunc(phi,alpha)/r-1)\n",
    "plt.plot(relErr)\n",
    "print(np.mean(relErr))\n",
    "\n",
    "plt.plot(rfunc(phi,alpha))\n",
    "plt.plot(r)"
   ]
  },
  {
   "cell_type": "code",
   "execution_count": null,
   "id": "80928bd0-f5fe-47ad-ba01-dcb0f34c0ea8",
   "metadata": {},
   "outputs": [],
   "source": []
  },
  {
   "cell_type": "code",
   "execution_count": null,
   "id": "551de037-fb61-442f-b53a-aa7df4464500",
   "metadata": {},
   "outputs": [],
   "source": []
  },
  {
   "cell_type": "code",
   "execution_count": null,
   "id": "33a5e46c-8039-4300-980d-6f9360e81bbc",
   "metadata": {},
   "outputs": [],
   "source": []
  },
  {
   "cell_type": "code",
   "execution_count": null,
   "id": "33534997-69e2-4da5-9fb1-ce65654e25f4",
   "metadata": {},
   "outputs": [],
   "source": []
  },
  {
   "cell_type": "code",
   "execution_count": null,
   "id": "46b38c4a-a777-4850-b096-e0c3749f657c",
   "metadata": {},
   "outputs": [],
   "source": []
  },
  {
   "cell_type": "code",
   "execution_count": 42,
   "id": "172f6c58-d735-4036-aaa2-6c1c5bcaec4c",
   "metadata": {},
   "outputs": [],
   "source": [
    "#elliptic\n",
    "args = {\"Tmax\":8*np.pi,\n",
    "        \"initial\":[1,0,0,1.25],\n",
    "        \"timesteps\":514,\n",
    "        \"depth\":10,\n",
    "        \"width\":43,\n",
    "        \"lr\":0.23,\n",
    "        \"weights\":[10.27,0.54,10.90,0.00045],\n",
    "        \"epochs\":10000,\n",
    "        \"seed\":2745\n",
    "}\n",
    "\n",
    "nn,totalLoss,s,t_plot,flag,validationLoss = trainNetwork(**args)\n",
    "showTrainingResult(nn,t_plot,totalLoss,s,validationLoss)"
   ]
  },
  {
   "cell_type": "code",
   "execution_count": 48,
   "id": "d2da51fa-01a6-4e7e-aa1c-15836ff4ce43",
   "metadata": {},
   "outputs": [],
   "source": [
    "args = {\"Tmax\":2*np.pi,\n",
    "        \"initial\":[-1,1.1,-1,1],\n",
    "        \"timesteps\":514,\n",
    "        \"depth\":2,\n",
    "        \"width\":16,\n",
    "        \"lr\":0.23,\n",
    "        \"weights\":[10.27,0.54,10.90,0.00045],\n",
    "        \"seed\":2745\n",
    "}\n",
    "an,nn,totalLoss,s,t_plot = showProgress2(**args)"
   ]
  },
  {
   "cell_type": "code",
   "execution_count": 43,
   "id": "844d9938-52f9-47d4-b287-93211bf5d56a",
   "metadata": {},
   "outputs": [],
   "source": [
    "showTrainingResult(nn,t_plot,totalLoss,s,validationLoss)"
   ]
  },
  {
   "cell_type": "code",
   "execution_count": 5,
   "id": "856c9ddb-6ce2-4110-ae17-db440c7c1d20",
   "metadata": {},
   "outputs": [],
   "source": [
    "import seaborn\n",
    "seaborn.set()"
   ]
  },
  {
   "cell_type": "code",
   "execution_count": 83,
   "id": "13df860e-b6c4-403f-8f82-5e190221f8e5",
   "metadata": {},
   "outputs": [],
   "source": [
    "#hyperbolic\n",
    "args = {\"Tmax\":np.pi,#1.3,\n",
    "        \"initial\":[-2.,1,-1,1],#[-1,1.48,-1,1],\n",
    "        \"timesteps\":514,\n",
    "        \"depth\":10,\n",
    "        \"width\":43,\n",
    "        \"lr\":0.23,\n",
    "        \"weights\":[10.27,0.54,10.90,0.000],\n",
    "        \"epochs\":10000,\n",
    "        \"seed\":2745\n",
    "}\n",
    "\n",
    "nn,totalLoss,s,t_plot,flag,validationLoss = trainNetwork(**args)\n",
    "showTrainingResult(nn,t_plot,totalLoss,s,validationLoss)"
   ]
  },
  {
   "cell_type": "code",
   "execution_count": 84,
   "id": "21d70e17-1c39-4629-82f3-72879e1a0c61",
   "metadata": {},
   "outputs": [],
   "source": [
    "showTrainingResult(nn,t_plot,totalLoss,s,validationLoss)"
   ]
  },
  {
   "cell_type": "code",
   "execution_count": 86,
   "id": "9869d605-f021-4268-b584-0ff978387560",
   "metadata": {},
   "outputs": [
    {
     "data": {
      "text/plain": [
       "[<matplotlib.lines.Line2D at 0x7f7841fbe460>]"
      ]
     },
     "execution_count": 86,
     "metadata": {},
     "output_type": "execute_result"
    }
   ],
   "source": [
    "s = State([0.71,0.71],[0.88,0.88])\n",
    "s.evolve(0.01,)\n",
    "plt.plot(s.x,s.y)"
   ]
  },
  {
   "cell_type": "code",
   "execution_count": 108,
   "id": "b9161b8d-c644-4a51-8bc6-02653af7419c",
   "metadata": {},
   "outputs": [],
   "source": [
    "#singular / radial\n",
    "args = {\"Tmax\":6.5*np.pi,\n",
    "        \"initial\":[0.87,1.08,0.5,0.625],\n",
    "        \"timesteps\":514,\n",
    "        \"depth\":10,\n",
    "        \"width\":43,\n",
    "        \"lr\":0.23,\n",
    "        \"weights\":[10.27,0.54,10.90,0.000],\n",
    "        \"epochs\":10000,\n",
    "        \"seed\":2745\n",
    "}\n",
    "\n",
    "nn,totalLoss,s,t_plot,flag,validationLoss = trainNetwork(**args)\n",
    "showTrainingResult(nn,t_plot,totalLoss,s,validationLoss)"
   ]
  },
  {
   "cell_type": "code",
   "execution_count": 91,
   "id": "f118b6b6-39e2-407e-8ed1-5ca96e59a8d7",
   "metadata": {},
   "outputs": [],
   "source": [
    "showTrainingResult(nn,t_plot,totalLoss,s,validationLoss)"
   ]
  },
  {
   "cell_type": "code",
   "execution_count": 107,
   "id": "6d9efa9f-7709-41b0-bcef-610e54ec49d9",
   "metadata": {},
   "outputs": [],
   "source": [
    "args = {\"Tmax\":6.5*np.pi,\n",
    "        \"initial\":[0.87,1.08,0.5,0.625],#[1,1.25,0,0],\n",
    "        \"timesteps\":514,\n",
    "        \"depth\":10,\n",
    "        \"width\":43,\n",
    "        \"lr\":0.23,\n",
    "        \"weights\":[10.27,0.54,10.90,0.000],\n",
    "        \"seed\":2745\n",
    "}\n",
    "_ = showProgress(**args)"
   ]
  },
  {
   "cell_type": "code",
   "execution_count": null,
   "id": "05adac9c-24b5-4403-9931-4a90583ea106",
   "metadata": {},
   "outputs": [],
   "source": []
  }
 ],
 "metadata": {
  "kernelspec": {
   "display_name": "Python 3",
   "language": "python",
   "name": "python3"
  },
  "language_info": {
   "codemirror_mode": {
    "name": "ipython",
    "version": 3
   },
   "file_extension": ".py",
   "mimetype": "text/x-python",
   "name": "python",
   "nbconvert_exporter": "python",
   "pygments_lexer": "ipython3",
   "version": "3.8.8"
  }
 },
 "nbformat": 4,
 "nbformat_minor": 5
}
